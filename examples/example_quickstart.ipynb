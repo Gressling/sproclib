{
 "cells": [
  {
   "cell_type": "markdown",
   "id": "789c3daf",
   "metadata": {},
   "source": [
    "## SProcLib Quick Start Example"
   ]
  },
  {
   "cell_type": "code",
   "execution_count": null,
   "id": "99020e12",
   "metadata": {},
   "outputs": [],
   "source": [
    "# Pypi install sproclib\n",
    "!pip install sproclib"
   ]
  },
  {
   "cell_type": "code",
   "execution_count": 10,
   "id": "64c7ca20",
   "metadata": {},
   "outputs": [],
   "source": [
    "# Local sproclib (for dev and debug))\n",
    "import sys\n",
    "import os\n",
    "sys.path.insert(0, os.path.abspath('..'))"
   ]
  },
  {
   "cell_type": "code",
   "execution_count": 11,
   "id": "32c8143d",
   "metadata": {},
   "outputs": [
    {
     "data": {
      "text/plain": [
       "<sproclib.unit.plant.chemical_plant.ChemicalPlant at 0x2d17db890>"
      ]
     },
     "execution_count": 11,
     "metadata": {},
     "output_type": "execute_result"
    }
   ],
   "source": [
    "from sproclib.unit.plant import ChemicalPlant\n",
    "from sproclib.unit.reactor.cstr import CSTR\n",
    "from sproclib.unit.pump import CentrifugalPump\n",
    "\n",
    "# Define plant\n",
    "plant = ChemicalPlant(name=\"Process Plant\")\n",
    "\n",
    "# Add units\n",
    "plant.add(CentrifugalPump(H0=50.0, eta=0.75), name=\"feed_pump\")\n",
    "plant.add(CSTR(V=150.0, k0=7.2e10), name=\"reactor\")\n",
    "\n",
    "# Connect units\n",
    "plant.connect(\"feed_pump\", \"reactor\", \"feed_stream\")"
   ]
  },
  {
   "cell_type": "code",
   "execution_count": 12,
   "id": "a46c2294",
   "metadata": {},
   "outputs": [
    {
     "name": "stdout",
     "output_type": "stream",
     "text": [
      "Optimizing plant: Process Plant\n",
      "Optimizer: economic\n",
      "Loss function: total_cost\n",
      "\n",
      "============================================================\n",
      "Chemical Plant: Process Plant\n",
      "============================================================\n",
      "Configuration:\n",
      "  Operating hours: 8,760 h/year\n",
      "  Electricity cost: $0.100/kWh\n",
      "  Steam cost: $15.00/ton\n",
      "  Cooling water cost: $0.050/m³\n",
      "\n",
      "Process Units (2 total):\n",
      "Unit Name            Type                 Parameters                    \n",
      "----------------------------------------------------------------------\n",
      "feed_pump            CentrifugalPump      H0=50.0m                      \n",
      "reactor              CSTR                 V=150.0L                      \n",
      "\n",
      "Connections (1 total):\n",
      "  feed_pump → reactor (feed_stream)\n",
      "\n",
      "Optimization:\n",
      "  Optimizer: economic\n",
      "  Loss function: total_cost\n",
      "  Metrics: profit, conversion\n",
      "============================================================\n",
      "\n"
     ]
    }
   ],
   "source": [
    "# Configure optimization\n",
    "plant.compile(\n",
    "    optimizer=\"economic\",\n",
    "    loss=\"total_cost\",\n",
    "    metrics=[\"profit\", \"conversion\"]\n",
    ")\n",
    "\n",
    "# Optimize operations\n",
    "plant.optimize(target_production=1000.0)\n",
    "\n",
    "# Display results\n",
    "plant.summary()"
   ]
  },
  {
   "cell_type": "code",
   "execution_count": 5,
   "id": "899ac74d",
   "metadata": {},
   "outputs": [
    {
     "name": "stdout",
     "output_type": "stream",
     "text": [
      "Reactor instance: <sproclib.unit.reactor.cstr.cstr.CSTR object at 0x2d1453230>\n",
      "Reactor type: <class 'sproclib.unit.reactor.cstr.cstr.CSTR'>\n"
     ]
    },
    {
     "data": {
      "text/plain": [
       "{'type': 'CSTR',\n",
       " 'description': 'Continuous Stirred Tank Reactor with Arrhenius kinetics and energy balance',\n",
       " 'category': 'reactor',\n",
       " 'algorithms': {'reaction_kinetics': 'Arrhenius equation: k = k0 * exp(-Ea/RT)',\n",
       "  'material_balance': 'dCA/dt = q/V*(CAi - CA) - k(T)*CA',\n",
       "  'energy_balance': 'dT/dt = q/V*(Ti - T) + (-dHr)*k(T)*CA/(rho*Cp) + UA*(Tc - T)/(V*rho*Cp)',\n",
       "  'steady_state': 'Numerical solution using scipy.optimize.fsolve'},\n",
       " 'parameters': {'V': {'value': 150.0,\n",
       "   'units': 'L',\n",
       "   'description': 'Reactor volume'},\n",
       "  'k0': {'value': 72000000000.0,\n",
       "   'units': '1/min',\n",
       "   'description': 'Arrhenius pre-exponential factor'},\n",
       "  'Ea': {'value': 72750.0,\n",
       "   'units': 'J/gmol',\n",
       "   'description': 'Activation energy'},\n",
       "  'R': {'value': 8.314, 'units': 'J/gmol/K', 'description': 'Gas constant'},\n",
       "  'rho': {'value': 1000.0, 'units': 'g/L', 'description': 'Density'},\n",
       "  'Cp': {'value': 0.239, 'units': 'J/g/K', 'description': 'Heat capacity'},\n",
       "  'dHr': {'value': -50000.0,\n",
       "   'units': 'J/gmol',\n",
       "   'description': 'Heat of reaction'},\n",
       "  'UA': {'value': 50000.0,\n",
       "   'units': 'J/min/K',\n",
       "   'description': 'Heat transfer coefficient'}},\n",
       " 'state_variables': {'CA': 'Concentration [mol/L]', 'T': 'Temperature [K]'},\n",
       " 'inputs': {'q': 'Flow rate [L/min]',\n",
       "  'CAi': 'Inlet concentration [mol/L]',\n",
       "  'Ti': 'Inlet temperature [K]',\n",
       "  'Tc': 'Coolant temperature [K]'},\n",
       " 'outputs': {'CA': 'Outlet concentration [mol/L]',\n",
       "  'T': 'Outlet temperature [K]',\n",
       "  'reaction_rate': 'Reaction rate [mol/L/min]',\n",
       "  'heat_generation': 'Heat generation [J/min]'},\n",
       " 'valid_ranges': {'V': {'min': 1.0, 'max': 10000.0, 'units': 'L'},\n",
       "  'T': {'min': 250.0, 'max': 600.0, 'units': 'K'},\n",
       "  'CA': {'min': 0.0, 'max': 100.0, 'units': 'mol/L'},\n",
       "  'q': {'min': 0.1, 'max': 1000.0, 'units': 'L/min'}},\n",
       " 'applications': ['Chemical reaction engineering',\n",
       "  'Process control design',\n",
       "  'Reactor optimization',\n",
       "  'Safety analysis'],\n",
       " 'limitations': ['Perfect mixing assumption',\n",
       "  'Single reaction assumed',\n",
       "  'Constant physical properties',\n",
       "  'No mass transfer limitations']}"
      ]
     },
     "execution_count": 5,
     "metadata": {},
     "output_type": "execute_result"
    }
   ],
   "source": [
    "# Get the CSTR reactor (second unit in the list)\n",
    "reactor_instance = plant.units[1]  # CSTR is the second unit added\n",
    "print(f\"Reactor instance: {reactor_instance}\")\n",
    "print(f\"Reactor type: {type(reactor_instance)}\")\n",
    "\n",
    "# Call describe method on the reactor instance\n",
    "reactor_instance.describe()"
   ]
  },
  {
   "cell_type": "code",
   "execution_count": 13,
   "id": "68ac92dc",
   "metadata": {},
   "outputs": [
    {
     "data": {
      "text/plain": [
       "{'type': 'CSTR',\n",
       " 'description': 'Continuous Stirred Tank Reactor with Arrhenius kinetics and energy balance',\n",
       " 'category': 'reactor',\n",
       " 'algorithms': {'reaction_kinetics': 'Arrhenius equation: k = k0 * exp(-Ea/RT)',\n",
       "  'material_balance': 'dCA/dt = q/V*(CAi - CA) - k(T)*CA',\n",
       "  'energy_balance': 'dT/dt = q/V*(Ti - T) + (-dHr)*k(T)*CA/(rho*Cp) + UA*(Tc - T)/(V*rho*Cp)',\n",
       "  'steady_state': 'Numerical solution using scipy.optimize.fsolve'},\n",
       " 'parameters': {'V': {'value': 100.0,\n",
       "   'units': 'L',\n",
       "   'description': 'Reactor volume'},\n",
       "  'k0': {'value': 72000000000.0,\n",
       "   'units': '1/min',\n",
       "   'description': 'Arrhenius pre-exponential factor'},\n",
       "  'Ea': {'value': 72750.0,\n",
       "   'units': 'J/gmol',\n",
       "   'description': 'Activation energy'},\n",
       "  'R': {'value': 8.314, 'units': 'J/gmol/K', 'description': 'Gas constant'},\n",
       "  'rho': {'value': 1000.0, 'units': 'g/L', 'description': 'Density'},\n",
       "  'Cp': {'value': 0.239, 'units': 'J/g/K', 'description': 'Heat capacity'},\n",
       "  'dHr': {'value': -50000.0,\n",
       "   'units': 'J/gmol',\n",
       "   'description': 'Heat of reaction'},\n",
       "  'UA': {'value': 50000.0,\n",
       "   'units': 'J/min/K',\n",
       "   'description': 'Heat transfer coefficient'}},\n",
       " 'state_variables': {'CA': 'Concentration [mol/L]', 'T': 'Temperature [K]'},\n",
       " 'inputs': {'q': 'Flow rate [L/min]',\n",
       "  'CAi': 'Inlet concentration [mol/L]',\n",
       "  'Ti': 'Inlet temperature [K]',\n",
       "  'Tc': 'Coolant temperature [K]'},\n",
       " 'outputs': {'CA': 'Outlet concentration [mol/L]',\n",
       "  'T': 'Outlet temperature [K]',\n",
       "  'reaction_rate': 'Reaction rate [mol/L/min]',\n",
       "  'heat_generation': 'Heat generation [J/min]'},\n",
       " 'valid_ranges': {'V': {'min': 1.0, 'max': 10000.0, 'units': 'L'},\n",
       "  'T': {'min': 250.0, 'max': 600.0, 'units': 'K'},\n",
       "  'CA': {'min': 0.0, 'max': 100.0, 'units': 'mol/L'},\n",
       "  'q': {'min': 0.1, 'max': 1000.0, 'units': 'L/min'}},\n",
       " 'applications': ['Chemical reaction engineering',\n",
       "  'Process control design',\n",
       "  'Reactor optimization',\n",
       "  'Safety analysis'],\n",
       " 'limitations': ['Perfect mixing assumption',\n",
       "  'Single reaction assumed',\n",
       "  'Constant physical properties',\n",
       "  'No mass transfer limitations']}"
      ]
     },
     "execution_count": 13,
     "metadata": {},
     "output_type": "execute_result"
    }
   ],
   "source": [
    "# Create a basic CSTR instance to call describe() on the class. \n",
    "# HINT: The CLASS not a reactor instance (Object)\n",
    "\n",
    "basic_cstr = CSTR()\n",
    "basic_cstr.describe()"
   ]
  },
  {
   "cell_type": "code",
   "execution_count": 14,
   "id": "764d8187",
   "metadata": {},
   "outputs": [
    {
     "name": "stdout",
     "output_type": "stream",
     "text": [
      "SProcLib module path: /Users/macmini/Desktop/github/sproclib/sproclib/__init__.py\n",
      "SProcLib version: 2.0.4\n",
      "✅ SUCCESS: Using LOCAL DEVELOPMENT code\n"
     ]
    }
   ],
   "source": [
    "# Verify we're using the development version of sproclib\n",
    "import sproclib\n",
    "print(f\"SProcLib module path: {sproclib.__file__}\")\n",
    "print(f\"SProcLib version: {getattr(sproclib, '__version__', 'Development')}\")\n",
    "\n",
    "# Check if we're using local development code\n",
    "if '/sproclib/sproclib/' in sproclib.__file__:\n",
    "    print(\"✅ SUCCESS: Using LOCAL DEVELOPMENT code\")\n",
    "else:\n",
    "    print(\"❌ WARNING: Using installed package, not development code\")"
   ]
  }
 ],
 "metadata": {
  "kernelspec": {
   "display_name": ".venv (3.13.1)",
   "language": "python",
   "name": "python3"
  },
  "language_info": {
   "codemirror_mode": {
    "name": "ipython",
    "version": 3
   },
   "file_extension": ".py",
   "mimetype": "text/x-python",
   "name": "python",
   "nbconvert_exporter": "python",
   "pygments_lexer": "ipython3",
   "version": "3.13.1"
  }
 },
 "nbformat": 4,
 "nbformat_minor": 5
}
