{
 "cells": [
  {
   "cell_type": "markdown",
   "id": "789c3daf",
   "metadata": {},
   "source": [
    "## SProcLib Quick Start Example"
   ]
  },
  {
   "cell_type": "code",
   "execution_count": null,
   "id": "64c7ca20",
   "metadata": {},
   "outputs": [],
   "source": [
    "!pip install sproclib"
   ]
  },
  {
   "cell_type": "code",
   "execution_count": null,
   "id": "32c8143d",
   "metadata": {},
   "outputs": [
    {
     "data": {
      "text/plain": [
       "<unit.plant.chemical_plant.ChemicalPlant at 0x18752893410>"
      ]
     },
     "execution_count": 90,
     "metadata": {},
     "output_type": "execute_result"
    }
   ],
   "source": [
    "from sproclib.unit.plant import ChemicalPlant\n",
    "from sproclib.unit.reactor.cstr import CSTR\n",
    "from sproclib.unit.pump import CentrifugalPump\n",
    "\n",
    "# Define plant\n",
    "plant = ChemicalPlant(name=\"Process Plant\")\n",
    "\n",
    "# Add units\n",
    "plant.add(CentrifugalPump(H0=50.0, eta=0.75), name=\"feed_pump\")\n",
    "plant.add(CSTR(V=150.0, k0=7.2e10), name=\"reactor\")\n",
    "\n",
    "# Connect units\n",
    "plant.connect(\"feed_pump\", \"reactor\", \"feed_stream\")"
   ]
  },
  {
   "cell_type": "code",
   "execution_count": 91,
   "id": "a46c2294",
   "metadata": {},
   "outputs": [
    {
     "name": "stdout",
     "output_type": "stream",
     "text": [
      "Optimizing plant: Process Plant\n",
      "Optimizer: economic\n",
      "Loss function: total_cost\n",
      "\n",
      "============================================================\n",
      "Chemical Plant: Process Plant\n",
      "============================================================\n",
      "Configuration:\n",
      "  Operating hours: 8,760 h/year\n",
      "  Electricity cost: $0.100/kWh\n",
      "  Steam cost: $15.00/ton\n",
      "  Cooling water cost: $0.050/m³\n",
      "\n",
      "Process Units (2 total):\n",
      "Unit Name            Type                 Parameters                    \n",
      "----------------------------------------------------------------------\n",
      "feed_pump            CentrifugalPump      H0=50.0m                      \n",
      "reactor              CSTR                 V=150.0L                      \n",
      "\n",
      "Connections (1 total):\n",
      "  feed_pump → reactor (feed_stream)\n",
      "\n",
      "Optimization:\n",
      "  Optimizer: economic\n",
      "  Loss function: total_cost\n",
      "  Metrics: profit, conversion\n",
      "============================================================\n",
      "\n"
     ]
    }
   ],
   "source": [
    "# Configure optimization\n",
    "plant.compile(\n",
    "    optimizer=\"economic\",\n",
    "    loss=\"total_cost\",\n",
    "    metrics=[\"profit\", \"conversion\"]\n",
    ")\n",
    "\n",
    "# Optimize operations\n",
    "plant.optimize(target_production=1000.0)\n",
    "\n",
    "# Display results\n",
    "plant.summary()"
   ]
  },
  {
   "cell_type": "code",
   "execution_count": null,
   "id": "68ac92dc",
   "metadata": {},
   "outputs": [],
   "source": []
  }
 ],
 "metadata": {
  "kernelspec": {
   "display_name": ".venv",
   "language": "python",
   "name": "python3"
  },
  "language_info": {
   "codemirror_mode": {
    "name": "ipython",
    "version": 3
   },
   "file_extension": ".py",
   "mimetype": "text/x-python",
   "name": "python",
   "nbconvert_exporter": "python",
   "pygments_lexer": "ipython3",
   "version": "3.13.1"
  }
 },
 "nbformat": 4,
 "nbformat_minor": 5
}
