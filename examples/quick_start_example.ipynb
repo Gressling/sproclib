{
 "cells": [
  {
   "cell_type": "markdown",
   "id": "789c3daf",
   "metadata": {},
   "source": [
    "## SProcLib Quick Start Example"
   ]
  },
  {
   "cell_type": "code",
   "execution_count": null,
   "id": "64c7ca20",
   "metadata": {},
   "outputs": [],
   "source": [
    "!pip install sproclib"
   ]
  },
  {
   "cell_type": "code",
   "execution_count": null,
   "id": "8ef22cb4",
   "metadata": {},
   "outputs": [],
   "source": [
    "# Import essential sproclib components\n",
    "from sproclib.unit.plant import ChemicalPlant\n",
    "from sproclib.unit.pump import CentrifugalPump\n",
    "from sproclib.unit.reactor import CSTR"
   ]
  },
  {
   "cell_type": "code",
   "execution_count": null,
   "id": "6c324399",
   "metadata": {},
   "outputs": [],
   "source": [
    "# Create plant\n",
    "plant = ChemicalPlant(name=\"Quick Start Plant\")\n",
    "\n",
    "# Add units\n",
    "plant.add(CentrifugalPump(H0=50.0, eta=0.75), name=\"pump\")\n",
    "plant.add(CSTR(V=150.0, k0=7.2e10), name=\"reactor\")\n",
    "\n",
    "# Connect units\n",
    "plant.connect(\"pump\", \"reactor\", \"feed_stream\")\n",
    "\n",
    "# Configure optimization\n",
    "plant.compile(optimizer=\"economic\", loss=\"total_cost\")"
   ]
  },
  {
   "cell_type": "markdown",
   "id": "a07eb399",
   "metadata": {},
   "source": [
    "## Optimize and Display Results\n",
    "\n",
    "Run optimization and show the results:"
   ]
  },
  {
   "cell_type": "code",
   "execution_count": null,
   "id": "7819109e",
   "metadata": {},
   "outputs": [],
   "source": [
    "# Optimize the plant\n",
    "results = plant.optimize(target_production=1000.0)\n",
    "\n",
    "# Display results\n",
    "print(\"Optimization Results:\")\n",
    "print(f\"Success: {results['success']}\")\n",
    "if results['success']:\n",
    "    print(f\"Optimal Cost: ${results['optimal_cost']:.2f}\")\n",
    "    print(f\"Message: {results['message']}\")"
   ]
  },
  {
   "cell_type": "markdown",
   "id": "ed58e658",
   "metadata": {},
   "source": [
    "## Plant Summary and Evaluation\n",
    "\n",
    "Display plant summary and performance metrics:"
   ]
  },
  {
   "cell_type": "code",
   "execution_count": null,
   "id": "9812dbb7",
   "metadata": {},
   "outputs": [],
   "source": [
    "# Show plant summary\n",
    "plant.summary()\n",
    "\n",
    "# Evaluate performance\n",
    "evaluation = plant.evaluate({})\n",
    "print(\"\\nPlant Performance:\")\n",
    "if 'plant' in evaluation:\n",
    "    for metric, value in evaluation['plant'].items():\n",
    "        print(f\"  {metric}: {value:.2f}\" if isinstance(value, float) else f\"  {metric}: {value}\")"
   ]
  }
 ],
 "metadata": {
  "kernelspec": {
   "display_name": ".venv",
   "language": "python",
   "name": "python3"
  },
  "language_info": {
   "codemirror_mode": {
    "name": "ipython",
    "version": 3
   },
   "file_extension": ".py",
   "mimetype": "text/x-python",
   "name": "python",
   "nbconvert_exporter": "python",
   "pygments_lexer": "ipython3",
   "version": "3.13.1"
  }
 },
 "nbformat": 4,
 "nbformat_minor": 5
}
