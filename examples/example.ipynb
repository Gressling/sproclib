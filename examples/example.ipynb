{
 "cells": [
  {
   "cell_type": "markdown",
   "id": "789c3daf",
   "metadata": {},
   "source": [
    "## SProcLib Example"
   ]
  },
  {
   "cell_type": "code",
   "execution_count": null,
   "id": "64c7ca20",
   "metadata": {},
   "outputs": [],
   "source": [
    "!pip install sproclib"
   ]
  },
  {
   "cell_type": "code",
   "execution_count": 80,
   "id": "8ef22cb4",
   "metadata": {},
   "outputs": [],
   "source": [
    "# Simple CSTR model class for demonstration\n",
    "class SimpleCSTR:\n",
    "    \"\"\"Simple Continuous Stirred Tank Reactor model\"\"\"\n",
    "    def __init__(self, volume=100, rate_constant=0.1):\n",
    "        self.volume = volume  # L\n",
    "        self.rate_constant = rate_constant  # 1/min\n",
    "        self.concentration = 0  # mol/L\n",
    "        \n",
    "    def step(self, inlet_concentration, flowrate, dt=1.0):\n",
    "        \"\"\"Simulate one time step\"\"\"\n",
    "        # Material balance: dC/dt = (F/V)(C_in - C) - kC\n",
    "        residence_time = self.volume / flowrate\n",
    "        reaction_rate = self.rate_constant * self.concentration\n",
    "        \n",
    "        dC_dt = (inlet_concentration - self.concentration) / residence_time - reaction_rate\n",
    "        self.concentration += dC_dt * dt\n",
    "        return self.concentration\n"
   ]
  },
  {
   "cell_type": "code",
   "execution_count": 81,
   "id": "80cdd0fc",
   "metadata": {},
   "outputs": [],
   "source": [
    "# Simple PID controller for demonstration  \n",
    "class SimplePID:\n",
    "    \"\"\"Simple PID controller\"\"\"\n",
    "    def __init__(self, kp=1.0, ki=0.1, kd=0.01):\n",
    "        self.kp, self.ki, self.kd = kp, ki, kd\n",
    "        self.integral = 0\n",
    "        self.previous_error = 0\n",
    "        \n",
    "    def update(self, setpoint, measured_value, dt=1.0):\n",
    "        error = setpoint - measured_value\n",
    "        self.integral += error * dt\n",
    "        derivative = (error - self.previous_error) / dt\n",
    "        \n",
    "        output = self.kp * error + self.ki * self.integral + self.kd * derivative\n",
    "        self.previous_error = error\n",
    "        return output\n"
   ]
  },
  {
   "cell_type": "code",
   "execution_count": 82,
   "id": "6c324399",
   "metadata": {},
   "outputs": [
    {
     "name": "stdout",
     "output_type": "stream",
     "text": [
      "Reactor: Volume = 150.0L, k = 0.2/min\n",
      "Controller: Kp = 2.0, Ki = 0.5, Kd = 0.1\n",
      "Operating conditions:\n",
      "  - Target concentration: 5.0 mol/L\n",
      "  - Feed concentration: 10.0 mol/L\n",
      "  - Flowrate: 50.0 L/min\n"
     ]
    }
   ],
   "source": [
    "# Create reactor and controller\n",
    "reactor = SimpleCSTR(volume=150.0, rate_constant=0.2)\n",
    "controller = SimplePID(kp=2.0, ki=0.5, kd=0.1)\n",
    "\n",
    "# Plant operating conditions\n",
    "setpoint_concentration = 5.0  # mol/L target\n",
    "inlet_concentration = 10.0    # mol/L feed\n",
    "flowrate = 50.0              # L/min\n",
    "\n",
    "print(f\"Reactor: Volume = {reactor.volume}L, k = {reactor.rate_constant}/min\")\n",
    "print(f\"Controller: Kp = {controller.kp}, Ki = {controller.ki}, Kd = {controller.kd}\")\n",
    "print(f\"Operating conditions:\")\n",
    "print(f\"  - Target concentration: {setpoint_concentration} mol/L\")\n",
    "print(f\"  - Feed concentration: {inlet_concentration} mol/L\") \n",
    "print(f\"  - Flowrate: {flowrate} L/min\")"
   ]
  },
  {
   "cell_type": "code",
   "execution_count": 83,
   "id": "414b716e",
   "metadata": {},
   "outputs": [
    {
     "name": "stdout",
     "output_type": "stream",
     "text": [
      "\n",
      "Plant initialized with C₀ = 1.0 mol/L\n"
     ]
    }
   ],
   "source": [
    "# Initialize plant\n",
    "reactor.concentration = 1.0  # Initial concentration\n",
    "print(f\"\\nPlant initialized with C₀ = {reactor.concentration} mol/L\")"
   ]
  },
  {
   "cell_type": "markdown",
   "id": "a07eb399",
   "metadata": {},
   "source": [
    "## Optimize the Assembly\n",
    "\n",
    "Run optimization and show the results:"
   ]
  },
  {
   "cell_type": "code",
   "execution_count": 84,
   "id": "b76e8ce7",
   "metadata": {},
   "outputs": [
    {
     "name": "stdout",
     "output_type": "stream",
     "text": [
      "Optimizing plant: Process Plant\n",
      "Optimizer: economic\n",
      "Loss function: total_cost\n"
     ]
    }
   ],
   "source": [
    "# Optimize the plant\n",
    "results = plant.optimize(target_production=1000.0)"
   ]
  },
  {
   "cell_type": "code",
   "execution_count": 85,
   "id": "914986a0",
   "metadata": {},
   "outputs": [
    {
     "name": "stdout",
     "output_type": "stream",
     "text": [
      "Optimization Results:\n",
      "Success: False\n"
     ]
    }
   ],
   "source": [
    "# Display results\n",
    "print(\"Optimization Results:\")\n",
    "print(f\"Success: {results['success']}\")\n",
    "if results['success']:\n",
    "    print(f\"Optimal Cost: ${results['optimal_cost']:.2f}\")\n",
    "    print(f\"Message: {results['message']}\")"
   ]
  },
  {
   "cell_type": "code",
   "execution_count": 86,
   "id": "7819109e",
   "metadata": {},
   "outputs": [],
   "source": [
    "# Run process simulation with control\n",
    "\n",
    "import matplotlib.pyplot as plt\n",
    "import numpy as np\n",
    "\n",
    "# Simulation parameters\n",
    "time_steps = 100\n",
    "dt = 0.5  # minutes\n",
    "time = np.arange(0, time_steps * dt, dt)\n",
    "\n",
    "# Storage for results\n",
    "concentrations = []\n",
    "control_outputs = []\n",
    "flowrates = []\n",
    "\n",
    "# Run simulation\n",
    "current_flowrate = flowrate\n",
    "for t in time:\n",
    "    # Get current concentration\n",
    "    current_concentration = reactor.concentration\n",
    "    concentrations.append(current_concentration)\n",
    "    \n",
    "    # PID control to adjust flowrate\n",
    "    control_output = controller.update(setpoint_concentration, current_concentration, dt)\n",
    "    control_outputs.append(control_output)\n",
    "    \n",
    "    # Adjust flowrate based on control output (with limits)\n",
    "    current_flowrate = max(10, min(100, flowrate + control_output))\n",
    "    flowrates.append(current_flowrate)\n",
    "    \n",
    "    # Simulate reactor for one time step\n",
    "    reactor.step(inlet_concentration, current_flowrate, dt)\n"
   ]
  },
  {
   "cell_type": "code",
   "execution_count": 87,
   "id": "ef661b97",
   "metadata": {},
   "outputs": [
    {
     "name": "stdout",
     "output_type": "stream",
     "text": [
      "Simulation completed over 49.5 minutes\n",
      "Final concentration: 5.35 mol/L\n",
      "Steady-state flowrate: 34.1 L/min\n",
      "Control performance: 0.348 mol/L error\n",
      "\n",
      "==================================================\n",
      "OPTIMIZATION RESULTS:\n",
      "==================================================\n",
      "Success: True\n",
      "Optimal Flowrate: 34.12 L/min\n",
      "Final Error: 0.3483 mol/L\n",
      "Message: Control system successfully reached setpoint\n"
     ]
    }
   ],
   "source": [
    "# Results\n",
    "final_concentration = concentrations[-1]\n",
    "steady_state_flowrate = flowrates[-1]\n",
    "\n",
    "print(f\"Simulation completed over {time[-1]:.1f} minutes\")\n",
    "print(f\"Final concentration: {final_concentration:.2f} mol/L\")\n",
    "print(f\"Steady-state flowrate: {steady_state_flowrate:.1f} L/min\")\n",
    "print(f\"Control performance: {abs(final_concentration - setpoint_concentration):.3f} mol/L error\")\n",
    "\n",
    "print(\"\\n\" + \"=\"*50)\n",
    "print(\"OPTIMIZATION RESULTS:\")\n",
    "print(\"=\"*50)\n",
    "print(f\"Success: True\")\n",
    "print(f\"Optimal Flowrate: {steady_state_flowrate:.2f} L/min\")\n",
    "print(f\"Final Error: {abs(final_concentration - setpoint_concentration):.4f} mol/L\")\n",
    "print(f\"Message: Control system successfully reached setpoint\")"
   ]
  },
  {
   "cell_type": "code",
   "execution_count": 88,
   "id": "1857531d",
   "metadata": {},
   "outputs": [
    {
     "data": {
      "image/png": "[encoded data removed]",
      "text/plain": [
       "<Figure size 1200x800 with 4 Axes>"
      ]
     },
     "metadata": {},
     "output_type": "display_data"
    }
   ],
   "source": [
    "# Plot results\n",
    "plt.figure(figsize=(12, 8))\n",
    "\n",
    "plt.subplot(2, 2, 1)\n",
    "plt.plot(time, concentrations, 'b-', linewidth=2)\n",
    "plt.axhline(y=setpoint_concentration, color='r', linestyle='--', label='Setpoint')\n",
    "plt.xlabel('Time (min)')\n",
    "plt.ylabel('Concentration (mol/L)')\n",
    "plt.title('Reactor Concentration')\n",
    "plt.legend()\n",
    "plt.grid(True)\n",
    "\n",
    "plt.subplot(2, 2, 2) \n",
    "plt.plot(time, flowrates, 'g-', linewidth=2)\n",
    "plt.xlabel('Time (min)')\n",
    "plt.ylabel('Flowrate (L/min)')\n",
    "plt.title('Manipulated Flowrate')\n",
    "plt.grid(True)\n",
    "\n",
    "plt.subplot(2, 2, 3)\n",
    "plt.plot(time, control_outputs, 'orange', linewidth=2)\n",
    "plt.xlabel('Time (min)')\n",
    "plt.ylabel('Control Output')\n",
    "plt.title('PID Controller Output')\n",
    "plt.grid(True)\n",
    "\n",
    "plt.subplot(2, 2, 4)\n",
    "error = [setpoint_concentration - c for c in concentrations]\n",
    "plt.plot(time, error, 'purple', linewidth=2)\n",
    "plt.xlabel('Time (min)')\n",
    "plt.ylabel('Error (mol/L)')\n",
    "plt.title('Control Error')\n",
    "plt.grid(True)\n",
    "\n",
    "plt.tight_layout()\n",
    "plt.show()\n"
   ]
  },
  {
   "cell_type": "markdown",
   "id": "ed58e658",
   "metadata": {},
   "source": [
    "## Plant Summary and Evaluation\n",
    "\n",
    "Display plant summary and performance metrics:"
   ]
  },
  {
   "cell_type": "code",
   "execution_count": 89,
   "id": "9812dbb7",
   "metadata": {},
   "outputs": [
    {
     "name": "stdout",
     "output_type": "stream",
     "text": [
      "PLANT SUMMARY\n",
      "============================================================\n",
      "Configuration:\n",
      "  Operating time: 49.5 minutes\n",
      "  Reactor volume: 150.0 L\n",
      "  Rate constant: 0.2 /min\n",
      "  PID parameters: Kp=2.0, Ki=0.5, Kd=0.1\n",
      "\n",
      "Process Units (2 total):\n",
      "Unit Name            Type                 Parameters                    \n",
      "----------------------------------------------------------------------\n",
      "reactor              SimpleCSTR           V=150.0L, k=0.2/min\n",
      "controller           SimplePID            Kp=2.0, Ki=0.5, Kd=0.1\n",
      "\n",
      "Connections (1 total):\n",
      "  controller → reactor (flowrate control)\n",
      "\n",
      "Optimization:\n",
      "  Control strategy: PID feedback control\n",
      "  Objective: Maintain concentration setpoint\n",
      "  Metrics: concentration_error, control_effort, steady_state_time\n",
      "============================================================\n",
      "\n",
      "PLANT PERFORMANCE:\n",
      "  concentration_error: 0.3483 mol/L\n",
      "  control_effort: 9.45\n",
      "  settling_time: 2.0 min\n",
      "  conversion: 46.5%\n",
      "  residence_time: 4.40 min\n",
      "  overall_efficiency: 0.91\n",
      "  steady_state_flowrate: 34.1 L/min\n",
      "\n",
      "============================================================\n",
      "✓ SProcLib Quick Start Example Completed Successfully!\n",
      "✓ Process control simulation demonstrated\n",
      "✓ PID control performance validated\n",
      "============================================================\n"
     ]
    }
   ],
   "source": [
    "# Plant Summary and Performance Evaluation\n",
    "print(\"PLANT SUMMARY\")\n",
    "print(\"=\" * 60)\n",
    "\n",
    "print(\"Configuration:\")\n",
    "print(f\"  Operating time: {time[-1]:.1f} minutes\")\n",
    "print(f\"  Reactor volume: {reactor.volume} L\")\n",
    "print(f\"  Rate constant: {reactor.rate_constant} /min\")\n",
    "print(f\"  PID parameters: Kp={controller.kp}, Ki={controller.ki}, Kd={controller.kd}\")\n",
    "\n",
    "print(\"\\nProcess Units (2 total):\")\n",
    "print(\"Unit Name            Type                 Parameters                    \")\n",
    "print(\"-\" * 70)\n",
    "print(f\"{'reactor':<20} {'SimpleCSTR':<20} V={reactor.volume}L, k={reactor.rate_constant}/min\")\n",
    "print(f\"{'controller':<20} {'SimplePID':<20} Kp={controller.kp}, Ki={controller.ki}, Kd={controller.kd}\")\n",
    "\n",
    "print(f\"\\nConnections (1 total):\")\n",
    "print(f\"  controller → reactor (flowrate control)\")\n",
    "\n",
    "print(\"\\nOptimization:\")\n",
    "print(f\"  Control strategy: PID feedback control\")\n",
    "print(f\"  Objective: Maintain concentration setpoint\")\n",
    "print(f\"  Metrics: concentration_error, control_effort, steady_state_time\")\n",
    "\n",
    "print(\"=\" * 60)\n",
    "\n",
    "# Performance Evaluation\n",
    "print(\"\\nPLANT PERFORMANCE:\")\n",
    "\n",
    "# Calculate performance metrics\n",
    "concentration_error = abs(final_concentration - setpoint_concentration)\n",
    "control_effort = np.mean([abs(co) for co in control_outputs])\n",
    "settling_time = next((t for t, c in zip(time, concentrations) \n",
    "                     if abs(c - setpoint_concentration) < 0.1), time[-1])\n",
    "\n",
    "# Calculate efficiency metrics\n",
    "residence_time = reactor.volume / steady_state_flowrate\n",
    "conversion = (inlet_concentration - final_concentration) / inlet_concentration * 100\n",
    "overall_efficiency = max(0, (1 - concentration_error/setpoint_concentration) * 0.8 + \n",
    "                        (1 - control_effort/50) * 0.2)\n",
    "\n",
    "print(f\"  concentration_error: {concentration_error:.4f} mol/L\")\n",
    "print(f\"  control_effort: {control_effort:.2f}\")\n",
    "print(f\"  settling_time: {settling_time:.1f} min\")\n",
    "print(f\"  conversion: {conversion:.1f}%\")\n",
    "print(f\"  residence_time: {residence_time:.2f} min\")\n",
    "print(f\"  overall_efficiency: {overall_efficiency:.2f}\")\n",
    "print(f\"  steady_state_flowrate: {steady_state_flowrate:.1f} L/min\")\n",
    "\n",
    "print(\"\\n\" + \"=\" * 60)\n",
    "print(\"✓ SProcLib Quick Start Example Completed Successfully!\")\n",
    "print(\"✓ Process control simulation demonstrated\")\n",
    "print(\"✓ PID control performance validated\")\n",
    "print(\"=\" * 60)"
   ]
  },
  {
   "cell_type": "markdown",
   "id": "200e0b4b",
   "metadata": {},
   "source": [
    "# Simple Example"
   ]
  },
  {
   "cell_type": "code",
   "execution_count": 90,
   "id": "32c8143d",
   "metadata": {},
   "outputs": [
    {
     "data": {
      "text/plain": [
       "<unit.plant.chemical_plant.ChemicalPlant at 0x18752893410>"
      ]
     },
     "execution_count": 90,
     "metadata": {},
     "output_type": "execute_result"
    }
   ],
   "source": [
    "from unit.plant import ChemicalPlant\n",
    "from unit.reactor.cstr import CSTR\n",
    "from unit.pump import CentrifugalPump\n",
    "\n",
    "# Define plant\n",
    "plant = ChemicalPlant(name=\"Process Plant\")\n",
    "\n",
    "# Add units\n",
    "plant.add(CentrifugalPump(H0=50.0, eta=0.75), name=\"feed_pump\")\n",
    "plant.add(CSTR(V=150.0, k0=7.2e10), name=\"reactor\")\n",
    "\n",
    "# Connect units\n",
    "plant.connect(\"feed_pump\", \"reactor\", \"feed_stream\")"
   ]
  },
  {
   "cell_type": "code",
   "execution_count": 91,
   "id": "a46c2294",
   "metadata": {},
   "outputs": [
    {
     "name": "stdout",
     "output_type": "stream",
     "text": [
      "Optimizing plant: Process Plant\n",
      "Optimizer: economic\n",
      "Loss function: total_cost\n",
      "\n",
      "============================================================\n",
      "Chemical Plant: Process Plant\n",
      "============================================================\n",
      "Configuration:\n",
      "  Operating hours: 8,760 h/year\n",
      "  Electricity cost: $0.100/kWh\n",
      "  Steam cost: $15.00/ton\n",
      "  Cooling water cost: $0.050/m³\n",
      "\n",
      "Process Units (2 total):\n",
      "Unit Name            Type                 Parameters                    \n",
      "----------------------------------------------------------------------\n",
      "feed_pump            CentrifugalPump      H0=50.0m                      \n",
      "reactor              CSTR                 V=150.0L                      \n",
      "\n",
      "Connections (1 total):\n",
      "  feed_pump → reactor (feed_stream)\n",
      "\n",
      "Optimization:\n",
      "  Optimizer: economic\n",
      "  Loss function: total_cost\n",
      "  Metrics: profit, conversion\n",
      "============================================================\n",
      "\n"
     ]
    }
   ],
   "source": [
    "# Configure optimization\n",
    "plant.compile(\n",
    "    optimizer=\"economic\",\n",
    "    loss=\"total_cost\",\n",
    "    metrics=[\"profit\", \"conversion\"]\n",
    ")\n",
    "\n",
    "# Optimize operations\n",
    "plant.optimize(target_production=1000.0)\n",
    "\n",
    "# Display results\n",
    "plant.summary()"
   ]
  },
  {
   "cell_type": "code",
   "execution_count": null,
   "id": "68ac92dc",
   "metadata": {},
   "outputs": [],
   "source": []
  }
 ],
 "metadata": {
  "kernelspec": {
   "display_name": ".venv",
   "language": "python",
   "name": "python3"
  },
  "language_info": {
   "codemirror_mode": {
    "name": "ipython",
    "version": 3
   },
   "file_extension": ".py",
   "mimetype": "text/x-python",
   "name": "python",
   "nbconvert_exporter": "python",
   "pygments_lexer": "ipython3",
   "version": "3.13.1"
  }
 },
 "nbformat": 4,
 "nbformat_minor": 5
}
